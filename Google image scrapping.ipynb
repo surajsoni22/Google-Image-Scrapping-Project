{
 "cells": [
  {
   "cell_type": "code",
   "execution_count": 1,
   "id": "44ca8b82",
   "metadata": {},
   "outputs": [],
   "source": [
    "import requests\n",
    "from bs4 import BeautifulSoup\n",
    "from urllib.request import urlopen as uReq\n",
    "import logging\n",
    "import os\n"
   ]
  },
  {
   "cell_type": "code",
   "execution_count": 2,
   "id": "3d1012e8",
   "metadata": {},
   "outputs": [],
   "source": [
    "save_dir = \"images/\"\n",
    "if not os.path.exists(save_dir):\n",
    "    os.mkdir(save_dir)"
   ]
  },
  {
   "cell_type": "code",
   "execution_count": 3,
   "id": "68547dd9",
   "metadata": {},
   "outputs": [],
   "source": [
    "headers = {\"User-Agent\": \"Mozilla/5.0 (Windows NT 10.0;Win64; x64) AppleWebkit/537.36 (KHTML, like Gecko) Chrome/58.0.3029.110 Safari/537.56\"}"
   ]
  },
  {
   "cell_type": "code",
   "execution_count": 4,
   "id": "46943cce",
   "metadata": {},
   "outputs": [],
   "source": [
    "query = \"Virat Kohli\"\n",
    "response = requests.get(f\"https://www.google.com/search?q={query}&sca_esv=589698990&rlz=1C1VDKB_enIN1080IN1080&tbm=isch&sxsrf=AM9HkKnOi3IyX1wSZQfED44OKlb7ubtwCA:1702274388248&source=lnms&sa=X&sqi=2&ved=2ahUKEwjf3uKh2oaDAxXC-DgGHRtaD50Q_AUoAXoECAIQAw&biw=1280&bih=595&dpr=1.5\")"
   ]
  },
  {
   "cell_type": "code",
   "execution_count": 5,
   "id": "d46f975e",
   "metadata": {},
   "outputs": [
    {
     "name": "stdout",
     "output_type": "stream",
     "text": [
      "<Response [200]>\n"
     ]
    }
   ],
   "source": [
    "print(response)"
   ]
  },
  {
   "cell_type": "code",
   "execution_count": 24,
   "id": "ffd16fe7",
   "metadata": {},
   "outputs": [
    {
     "data": {
      "text/plain": [
       "<!DOCTYPE html PUBLIC \"-//WAPFORUM//DTD XHTML Mobile 1.0//EN\" \"http://www.wapforum.org/DTD/xhtml-mobile10.dtd\">\n",
       "<html lang=\"en-IN\" xmlns=\"http://www.w3.org/1999/xhtml\"><head><meta content=\"application/xhtml+xml; charset=utf-8\" http-equiv=\"Content-Type\"/><meta content=\"no-cache\" name=\"Cache-Control\"/><title>ms dhoni - Google Search</title><style>a{text-decoration:none;color:inherit}a:hover{text-decoration:underline}a img{border:0}body{font-family:arial,sans-serif;padding:8px;margin:0 auto;max-width:700px;min-width:240px;}.FbhRzb{border-left:thin solid #dadce0;border-right:thin solid #dadce0;border-top:thin solid #dadce0;height:40px;overflow:hidden}.n692Zd{margin-bottom:10px}.cvifge{height:40px;border-spacing:0}.QvGUP{height:40px;padding:0 8px 0 8px;vertical-align:top}.O4cRJf{height:40px;width:100%;padding:0;padding-right:16px}.O1ePr{height:40px;padding:0;vertical-align:top}.kgJEQe{height:36px;width:98px;vertical-align:top;margin-top:4px}.lXLRf{vertical-align:top}.MhzMZd{border:0;vertical-align:middle;font-size:14px;height:40px;padding:0;width:100%;padding-left:16px}.xB0fq{height:40px;border:none;font-size:14px;background-color:#1a73e8;color:#fff;padding:0 16px;margin:0;vertical-align:top;cursor:pointer}.xB0fq:focus{border:1px solid #1a73e8}.M7pB2{border:thin solid #dadce0;margin:0 0 3px 0;font-size:13px;font-weight:500;height:40px}.euZec{width:100%;height:40px;text-align:center;border-spacing:0}table.euZec td{padding:0;width:25%}.QIqI7{display:inline-block;padding-top:4px;font-weight:bold;color:#4285f4}.EY24We{border-bottom:2px solid #4285f4}.CsQyDc{display:inline-block;color:#70757a}.TuS8Ad{font-size:14px}.HddGcc{padding:8px;color:#70757a}.dzp8ae{font-weight:bold;color:#3c4043}.rEM8G{color:#70757a}.bookcf{table-layout:fixed;width:100%;border-spacing:0}.InWNIe{text-align:center}.uZgmoc{border:thin solid #dadce0;color:#70757a;font-size:14px;text-align:center;table-layout:fixed;width:100%}.frGj1b{display:block;padding:12px 0 12px 0;width:100%}.BnJWBc{text-align:center;padding:6px 0 13px 0;height:35px}.e3goi{vertical-align:top;padding:0;height:180px}.GpQGbf{margin:auto;border-collapse:collapse;border-spacing:0;width:100%}</style></head><body><style>.X6ZCif{color:#202124;font-size:11px;line-height:16px;display:inline-block;padding-top:2px;overflow:hidden;padding-bottom:4px;width:100%}.TwVfHd{border-radius:16px;border:thin solid #dadce0;display:inline-block;padding:8px 8px;margin-right:8px;margin-bottom:4px}.yekiAe{background-color:#dadce0}.jjVJ4e{width:100%}.ezO2md{border:thin solid #dadce0;padding:12px 16px 12px 16px;margin-bottom:10px;font-family:arial,sans-serif}.lIMUZd{font-family:arial,sans-serif}.RntSmf{border-spacing:0}.lgD2Tc{width:100%}.SpelHe{text-align:center}.SpelHe{position:relative}.deHqpb{bottom:0;left:0;margin:auto;position:absolute;right:0;top:0}.kCmkOe{position:relative}.ID6Z3b{background-image:url(https://www.gstatic.com/search_trustx/visibility_off_icon_p0-7d897bf44bafe5436baa9009e8716337.png);background-repeat:no-repeat;background-position:center;background-size:20px}.kCmkOe{width:162px;height:140px;line-height:140px;overflow:'hidden';text-align:center}.DS1iW{text-align:center;margin:auto;vertical-align:middle;max-width:162px;max-height:140px}.AlD19d{padding-top:2px;padding-bottom:8px;}.fYyStc{word-break:break-word}.ynsChf{display:block;white-space:nowrap;overflow:hidden;text-overflow:ellipsis}.Fj3V3b{color:#1967d2;font-size:14px;line-height:20px}.FrIlee{color:#202124;font-size:11px;line-height:16px}.F9iS2e{color:#70757a;font-size:11px;line-height:16px}.WMQ2Le{color:#70757a;font-size:12px;line-height:16px}.x3G5ab{color:#202124;font-size:12px;line-height:16px}.fuLhoc{color:#1967d2;font-size:16px;line-height:20px}.epoveb{font-size:24px;line-height:28px;font-weight:400;color:#202124}.dXDvrc{color:#0d652d;font-size:14px;line-height:20px;word-wrap:break-word}.dloBPe{font-weight:bold}.YVIcad{color:#70757a}.JkVVdd{color:#ea4335}.oXZRFd{color:#ea4335}.MQHtg{color:#fbbc04}.pyMRrb{color:#1e8e3e}.EtTZid{color:#1e8e3e}.M3vVJe{color:#1967d2}.qXLe6d{display:block}.NHQNef{font-style:italic}.Cb8Z7c{white-space:pre}a.ZWRArf{text-decoration:none}a .CVA68e:hover{text-decoration:underline}</style><div class=\"n692Zd\"><div class=\"BnJWBc\"><a class=\"lXLRf\" href=\"/?sa=X&amp;sca_esv=589698990&amp;rlz=1C1VDKB_enIN1080IN1080&amp;biw=1280&amp;bih=595&amp;output=images&amp;ie=UTF-8&amp;tbm=isch&amp;ved=0ahUKEwjQ1LTjvYeDAxUWXWwGHadNBocQPAgC\"><img alt=\"Google\" class=\"kgJEQe\" src=\"/images/branding/searchlogo/1x/googlelogo_desk_heirloom_color_150x55dp.gif\"/></a></div><div class=\"FbhRzb\"><form action=\"/search\"><input name=\"sca_esv\" type=\"hidden\" value=\"589698990\"/><input name=\"rlz\" type=\"hidden\" value=\"1C1VDKB_enIN1080IN1080\"/><input name=\"biw\" type=\"hidden\" value=\"1280\"/><input name=\"bih\" type=\"hidden\" value=\"595\"/><input name=\"ie\" type=\"hidden\" value=\"ISO-8859-1\"/><input name=\"tbm\" type=\"hidden\" value=\"isch\"/><input name=\"oq\" type=\"hidden\"/><input name=\"aqs\" type=\"hidden\"/><table class=\"cvifge\"><tr><td class=\"O4cRJf\"><input class=\"MhzMZd\" name=\"q\" type=\"text\" value=\"ms dhoni\"/></td><td class=\"O1ePr\"><input class=\"xB0fq\" type=\"submit\" value=\"Search\"/></td></tr></table></form></div><div class=\"M7pB2\"><table class=\"euZec\"><tbody><tr><td><a class=\"CsQyDc\" href=\"/search?q=ms+dhoni&amp;sca_esv=589698990&amp;rlz=1C1VDKB_enIN1080IN1080&amp;biw=1280&amp;bih=595&amp;ie=UTF-8&amp;source=lnms&amp;sa=X&amp;ved=0ahUKEwjQ1LTjvYeDAxUWXWwGHadNBocQ_AUIBCgA\">ALL</a></td><td><a class=\"CsQyDc\" href=\"/search?q=ms+dhoni&amp;sca_esv=589698990&amp;rlz=1C1VDKB_enIN1080IN1080&amp;biw=1280&amp;bih=595&amp;ie=UTF-8&amp;tbm=nws&amp;source=lnms&amp;sa=X&amp;ved=0ahUKEwjQ1LTjvYeDAxUWXWwGHadNBocQ_AUIBSgB\">NEWS</a></td><td class=\"EY24We\"><span class=\"QIqI7\">IMAGES</span></td><td><a class=\"CsQyDc\" href=\"/search?q=ms+dhoni&amp;sca_esv=589698990&amp;rlz=1C1VDKB_enIN1080IN1080&amp;biw=1280&amp;bih=595&amp;ie=UTF-8&amp;tbm=vid&amp;source=lnms&amp;sa=X&amp;ved=0ahUKEwjQ1LTjvYeDAxUWXWwGHadNBocQ_AUIBygD\">VIDEOS</a></td></tr></tbody></table></div></div><div class=\"X6ZCif\"><a class=\"TwVfHd\" href=\"/search?sca_esv=589698990&amp;rlz=1C1VDKB_enIN1080IN1080&amp;biw=1280&amp;bih=595&amp;ie=UTF-8&amp;tbm=isch&amp;q=ms+dhoni&amp;chips=q:ms+dhoni,g_1:wallpaper&amp;sa=X&amp;ved=0ahUKEwjQ1LTjvYeDAxUWXWwGHadNBocQ4lYICygA\">wallpaper</a><a class=\"TwVfHd\" href=\"/search?sca_esv=589698990&amp;rlz=1C1VDKB_enIN1080IN1080&amp;biw=1280&amp;bih=595&amp;ie=UTF-8&amp;tbm=isch&amp;q=ms+dhoni&amp;chips=q:ms+dhoni,g_1:world+cup&amp;sa=X&amp;ved=0ahUKEwjQ1LTjvYeDAxUWXWwGHadNBocQ4lYIDCgB\">world cup</a><a class=\"TwVfHd\" href=\"/search?sca_esv=589698990&amp;rlz=1C1VDKB_enIN1080IN1080&amp;biw=1280&amp;bih=595&amp;ie=UTF-8&amp;tbm=isch&amp;q=ms+dhoni&amp;chips=q:ms+dhoni,g_1:csk&amp;sa=X&amp;ved=0ahUKEwjQ1LTjvYeDAxUWXWwGHadNBocQ4lYIDSgC\">csk</a><a class=\"TwVfHd\" href=\"/search?sca_esv=589698990&amp;rlz=1C1VDKB_enIN1080IN1080&amp;biw=1280&amp;bih=595&amp;ie=UTF-8&amp;tbm=isch&amp;q=ms+dhoni&amp;chips=q:ms+dhoni,g_1:hairstyle&amp;sa=X&amp;ved=0ahUKEwjQ1LTjvYeDAxUWXWwGHadNBocQ4lYIDigD\">hairstyle</a><a class=\"TwVfHd\" href=\"/search?sca_esv=589698990&amp;rlz=1C1VDKB_enIN1080IN1080&amp;biw=1280&amp;bih=595&amp;ie=UTF-8&amp;tbm=isch&amp;q=ms+dhoni&amp;chips=q:ms+dhoni,g_1:drawing&amp;sa=X&amp;ved=0ahUKEwjQ1LTjvYeDAxUWXWwGHadNBocQ4lYIDygE\">drawing</a><a class=\"TwVfHd\" href=\"/search?sca_esv=589698990&amp;rlz=1C1VDKB_enIN1080IN1080&amp;biw=1280&amp;bih=595&amp;ie=UTF-8&amp;tbm=isch&amp;q=ms+dhoni&amp;chips=q:ms+dhoni,g_1:virat+kohli&amp;sa=X&amp;ved=0ahUKEwjQ1LTjvYeDAxUWXWwGHadNBocQ4lYIECgF\">virat kohli</a><a class=\"TwVfHd\" href=\"/search?sca_esv=589698990&amp;rlz=1C1VDKB_enIN1080IN1080&amp;biw=1280&amp;bih=595&amp;ie=UTF-8&amp;tbm=isch&amp;q=ms+dhoni&amp;chips=q:ms+dhoni,g_1:profile&amp;sa=X&amp;ved=0ahUKEwjQ1LTjvYeDAxUWXWwGHadNBocQ4lYIESgG\">profile</a><a class=\"TwVfHd\" href=\"/search?sca_esv=589698990&amp;rlz=1C1VDKB_enIN1080IN1080&amp;biw=1280&amp;bih=595&amp;ie=UTF-8&amp;tbm=isch&amp;q=ms+dhoni&amp;chips=q:ms+dhoni,g_1:birthday&amp;sa=X&amp;ved=0ahUKEwjQ1LTjvYeDAxUWXWwGHadNBocQ4lYIEigH\">birthday</a><a class=\"TwVfHd\" href=\"/search?sca_esv=589698990&amp;rlz=1C1VDKB_enIN1080IN1080&amp;biw=1280&amp;bih=595&amp;ie=UTF-8&amp;tbm=isch&amp;q=ms+dhoni&amp;chips=q:ms+dhoni,g_1:ipl&amp;sa=X&amp;ved=0ahUKEwjQ1LTjvYeDAxUWXWwGHadNBocQ4lYIEygI\">ipl</a><a class=\"TwVfHd\" href=\"/search?sca_esv=589698990&amp;rlz=1C1VDKB_enIN1080IN1080&amp;biw=1280&amp;bih=595&amp;ie=UTF-8&amp;tbm=isch&amp;q=ms+dhoni&amp;chips=q:ms+dhoni,g_1:style&amp;sa=X&amp;ved=0ahUKEwjQ1LTjvYeDAxUWXWwGHadNBocQ4lYIFCgJ\">style</a></div><div><table class=\"GpQGbf\"><tr><td align=\"center\" class=\"e3goi\"><div class=\"jjVJ4e\"> <div> <div class=\"lIMUZd\"><div><table class=\"RntSmf\"><tr><td><a href=\"/url?q=https://gim.ac.in/modules/custom/custom_faculty/images/cricket/ms-dhoni-biggest-six-distance-2/&amp;sa=U&amp;ved=2ahUKEwjQ1LTjvYeDAxUWXWwGHadNBocQqoUBegQIBBAB&amp;usg=AOvVaw3aH7qMZncIpzVW4nSXsqfo\"><div class=\"kCmkOe\"><img alt=\"\" class=\"DS1iW\" src=\"https://encrypted-tbn0.gstatic.com/images?q=tbn:ANd9GcSCmVy4xjkSoSIq5YDE0NmPx_nks-2wYIuWiNdhnamRLeBM4m_ONTVS2ltEIw&amp;s\"/></div></a></td></tr><tr><td><a href=\"/url?q=https://gim.ac.in/modules/custom/custom_faculty/images/cricket/ms-dhoni-biggest-six-distance-2/&amp;sa=U&amp;ved=2ahUKEwjQ1LTjvYeDAxUWXWwGHadNBocQr4kDegQIBBAC&amp;usg=AOvVaw2hQgGaIqTLZ1kYoaNvb1Df\"><div class=\"AlD19d\"> <span class=\"qXLe6d x3G5ab\"> <span class=\"fYyStc\">Ms Dhoni Biggest Six...</span> </span> <span class=\"qXLe6d F9iS2e\"> <span class=\"fYyStc\">gim.ac.in</span> </span> </div></a></td></tr></table></div></div> </div> </div></td><td align=\"center\" class=\"e3goi\"><div class=\"jjVJ4e\"> <div> <div class=\"lIMUZd\"><div><table class=\"RntSmf\"><tr><td><a href=\"/url?q=https://sports.ndtv.com/cricket/if-he-loses-20kg-i-will-pick-him-in-ipl-ms-dhonis-intriguing-chat-with-afghan-star-4645013&amp;sa=U&amp;ved=2ahUKEwjQ1LTjvYeDAxUWXWwGHadNBocQqoUBegQIExAB&amp;usg=AOvVaw3EUfL8CKRvPRXsHT4jYQ5I\"><div class=\"kCmkOe\"><img alt=\"\" class=\"DS1iW\" src=\"https://encrypted-tbn0.gstatic.com/images?q=tbn:ANd9GcQnOH_j4Mjhz63lTh13QVUv7MQLo938RXlgdB0p1UZp4jR90gMLyPLGxFwWYQ&amp;s\"/></div></a></td></tr><tr><td><a href=\"/url?q=https://sports.ndtv.com/cricket/if-he-loses-20kg-i-will-pick-him-in-ipl-ms-dhonis-intriguing-chat-with-afghan-star-4645013&amp;sa=U&amp;ved=2ahUKEwjQ1LTjvYeDAxUWXWwGHadNBocQr4kDegQIExAC&amp;usg=AOvVaw0UG_XKe03Sr_be2AqhHaDK\"><div class=\"AlD19d\"> <span class=\"qXLe6d x3G5ab\"> <span class=\"fYyStc\">If He Loses 20kg, I Will...</span> </span> <span class=\"qXLe6d F9iS2e\"> <span class=\"fYyStc\">sports.ndtv.com</span> </span> </div></a></td></tr></table></div></div> </div> </div></td><td align=\"center\" class=\"e3goi\"><div class=\"jjVJ4e\"> <div> <div class=\"lIMUZd\"><div><table class=\"RntSmf\"><tr><td><a href=\"/url?q=https://www.poornima.edu.in/cricket/ms-dhoni-details-2/&amp;sa=U&amp;ved=2ahUKEwjQ1LTjvYeDAxUWXWwGHadNBocQqoUBegQIEhAB&amp;usg=AOvVaw12dhEColkWl7iJymTm5ksn\"><div class=\"kCmkOe\"><img alt=\"\" class=\"DS1iW\" src=\"https://encrypted-tbn0.gstatic.com/images?q=tbn:ANd9GcQG5D1SKu8A6BiiQHG8GsFS2FG0mXcusMpXr7RgQYiFRDtCmogZgFWbpCUWz_Q&amp;s\"/></div></a></td></tr><tr><td><a href=\"/url?q=https://www.poornima.edu.in/cricket/ms-dhoni-details-2/&amp;sa=U&amp;ved=2ahUKEwjQ1LTjvYeDAxUWXWwGHadNBocQr4kDegQIEhAC&amp;usg=AOvVaw2WipkGOxFUr9NLwDDP12qL\"><div class=\"AlD19d\"> <span class=\"qXLe6d x3G5ab\"> <span class=\"fYyStc\">Ms Dhoni Details - Top |...</span> </span> <span class=\"qXLe6d F9iS2e\"> <span class=\"fYyStc\">www.poornima.edu.in</span> </span> </div></a></td></tr></table></div></div> </div> </div></td><td align=\"center\" class=\"e3goi\"><div class=\"jjVJ4e\"> <div> <div class=\"lIMUZd\"><div><table class=\"RntSmf\"><tr><td><a href=\"/url?q=https://timesofindia.indiatimes.com/life-style/spotlight/web-stories/leadership-quotes-by-thala-ms-dhoni/photostory/102165926.cms&amp;sa=U&amp;ved=2ahUKEwjQ1LTjvYeDAxUWXWwGHadNBocQqoUBegQIERAB&amp;usg=AOvVaw3xzb_ZLAR4jXpJcC8cBVX0\"><div class=\"kCmkOe\"><img alt=\"\" class=\"DS1iW\" src=\"https://encrypted-tbn0.gstatic.com/images?q=tbn:ANd9GcQlrr2wBBQaDGnHtMHuIJZw6Fil5boteA7K0a6kyn9_0avHrEUpAW859BLgVg&amp;s\"/></div></a></td></tr><tr><td><a href=\"/url?q=https://timesofindia.indiatimes.com/life-style/spotlight/web-stories/leadership-quotes-by-thala-ms-dhoni/photostory/102165926.cms&amp;sa=U&amp;ved=2ahUKEwjQ1LTjvYeDAxUWXWwGHadNBocQr4kDegQIERAC&amp;usg=AOvVaw3VUG1fmsDSmfsHKTBdjszN\"><div class=\"AlD19d\"> <span class=\"qXLe6d x3G5ab\"> <span class=\"fYyStc\">Leadership quotes by...</span> </span> <span class=\"qXLe6d F9iS2e\"> <span class=\"fYyStc\">timesofindia.indiatimes.com...</span> </span> </div></a></td></tr></table></div></div> </div> </div></td></tr><tr><td align=\"center\" class=\"e3goi\"><div class=\"jjVJ4e\"> <div> <div class=\"lIMUZd\"><div><table class=\"RntSmf\"><tr><td><a href=\"/url?q=https://www.sagarhospitals.in/brochure/blog/cricket/ms-dhoni-icc-ranking-no-1/&amp;sa=U&amp;ved=2ahUKEwjQ1LTjvYeDAxUWXWwGHadNBocQqoUBegQIDxAB&amp;usg=AOvVaw2het013YwjOEHaWKoMCbNd\"><div class=\"kCmkOe\"><img alt=\"\" class=\"DS1iW\" src=\"https://encrypted-tbn0.gstatic.com/images?q=tbn:ANd9GcROxkoDl9Ys_esDbACrX0fA2Mnbkqohhd6sYHp7L-qTmItM-QFEmJ61DAuEgA&amp;s\"/></div></a></td></tr><tr><td><a href=\"/url?q=https://www.sagarhospitals.in/brochure/blog/cricket/ms-dhoni-icc-ranking-no-1/&amp;sa=U&amp;ved=2ahUKEwjQ1LTjvYeDAxUWXWwGHadNBocQr4kDegQIDxAC&amp;usg=AOvVaw36LlkBbkes6gKPetz-z-Mi\"><div class=\"AlD19d\"> <span class=\"qXLe6d x3G5ab\"> <span class=\"fYyStc\">Ms Dhoni Icc Ranking No 1 -...</span> </span> <span class=\"qXLe6d F9iS2e\"> <span class=\"fYyStc\">www.sagarhospitals.in</span> </span> </div></a></td></tr></table></div></div> </div> </div></td><td align=\"center\" class=\"e3goi\"><div class=\"jjVJ4e\"> <div> <div class=\"lIMUZd\"><div><table class=\"RntSmf\"><tr><td><a href=\"/url?q=https://www.britannica.com/biography/MS-Dhoni&amp;sa=U&amp;ved=2ahUKEwjQ1LTjvYeDAxUWXWwGHadNBocQqoUBegQIEBAB&amp;usg=AOvVaw2jwDAdc0CiFhR_9stKd1q5\"><div class=\"kCmkOe\"><img alt=\"\" class=\"DS1iW\" src=\"https://encrypted-tbn0.gstatic.com/images?q=tbn:ANd9GcTYCmQaQDBHif6G_raTPWZxfNlK_Zjj0ly-FpYGXmtpJZISGw_BN9aLnShNMow&amp;s\"/></div></a></td></tr><tr><td><a href=\"/url?q=https://www.britannica.com/biography/MS-Dhoni&amp;sa=U&amp;ved=2ahUKEwjQ1LTjvYeDAxUWXWwGHadNBocQr4kDegQIEBAC&amp;usg=AOvVaw17ZFYIDgbeo1CctU157Nkn\"><div class=\"AlD19d\"> <span class=\"qXLe6d x3G5ab\"> <span class=\"fYyStc\">M.S. Dhoni | Biography,...</span> </span> <span class=\"qXLe6d F9iS2e\"> <span class=\"fYyStc\">www.britannica.com</span> </span> </div></a></td></tr></table></div></div> </div> </div></td><td align=\"center\" class=\"e3goi\"><div class=\"jjVJ4e\"> <div> <div class=\"lIMUZd\"><div><table class=\"RntSmf\"><tr><td><a href=\"/url?q=https://gim.ac.in/modules/custom/custom_faculty/images/cricket/ms-dhoni-longest-six-in-his-career-2/&amp;sa=U&amp;ved=2ahUKEwjQ1LTjvYeDAxUWXWwGHadNBocQqoUBegQIDRAB&amp;usg=AOvVaw1LL3O2fyt5h2xaseCR9wEP\"><div class=\"kCmkOe\"><img alt=\"\" class=\"DS1iW\" src=\"https://encrypted-tbn0.gstatic.com/images?q=tbn:ANd9GcShCR4qMx76Wz81VuWJUUbQlmaE-M1zwfGqCWxX5zC8AynHf19I8L2I7CyALAo&amp;s\"/></div></a></td></tr><tr><td><a href=\"/url?q=https://gim.ac.in/modules/custom/custom_faculty/images/cricket/ms-dhoni-longest-six-in-his-career-2/&amp;sa=U&amp;ved=2ahUKEwjQ1LTjvYeDAxUWXWwGHadNBocQr4kDegQIDRAC&amp;usg=AOvVaw3OD-W2sS-N0gonqJ4_P8KM\"><div class=\"AlD19d\"> <span class=\"qXLe6d x3G5ab\"> <span class=\"fYyStc\">Ms Dhoni Longest Six In His...</span> </span> <span class=\"qXLe6d F9iS2e\"> <span class=\"fYyStc\">gim.ac.in</span> </span> </div></a></td></tr></table></div></div> </div> </div></td><td align=\"center\" class=\"e3goi\"><div class=\"jjVJ4e\"> <div> <div class=\"lIMUZd\"><div><table class=\"RntSmf\"><tr><td><a href=\"/url?q=https://www.timesnownews.com/sports/cricket/explained-why-ms-dhoni-is-not-allowed-to-play-legends-league-cricket-now-article-105313669&amp;sa=U&amp;ved=2ahUKEwjQ1LTjvYeDAxUWXWwGHadNBocQqoUBegQICRAB&amp;usg=AOvVaw0GRwMm57UjzJ2RyDqg-D84\"><div class=\"kCmkOe\"><img alt=\"\" class=\"DS1iW\" src=\"https://encrypted-tbn0.gstatic.com/images?q=tbn:ANd9GcSK5RZRRpWxoesBB27ShVjWYjQg7989b0BIEWFIeKa608Pt7CcP_3L9N0L5_g&amp;s\"/></div></a></td></tr><tr><td><a href=\"/url?q=https://www.timesnownews.com/sports/cricket/explained-why-ms-dhoni-is-not-allowed-to-play-legends-league-cricket-now-article-105313669&amp;sa=U&amp;ved=2ahUKEwjQ1LTjvYeDAxUWXWwGHadNBocQr4kDegQICRAC&amp;usg=AOvVaw2Y4LBnEBWbr5V-kvA2JYzI\"><div class=\"AlD19d\"> <span class=\"qXLe6d x3G5ab\"> <span class=\"fYyStc\">Revealed! Why MS Dhoni...</span> </span> <span class=\"qXLe6d F9iS2e\"> <span class=\"fYyStc\">www.timesnownews.com</span> </span> </div></a></td></tr></table></div></div> </div> </div></td></tr><tr><td align=\"center\" class=\"e3goi\"><div class=\"jjVJ4e\"> <div> <div class=\"lIMUZd\"><div><table class=\"RntSmf\"><tr><td><a href=\"/url?q=https://www.sagarhospitals.in/brochure/blog/cricket/background-of-ms-dhoni/&amp;sa=U&amp;ved=2ahUKEwjQ1LTjvYeDAxUWXWwGHadNBocQqoUBegQIDhAB&amp;usg=AOvVaw1zDl0tLjBcJ8nIzzy16r8w\"><div class=\"kCmkOe\"><img alt=\"\" class=\"DS1iW\" src=\"https://encrypted-tbn0.gstatic.com/images?q=tbn:ANd9GcRz79x97nWrkr-6uVfGxIid3ZW_cHK4fzfLk0118s8I0KYqIl8ikb5u8M-kYt4&amp;s\"/></div></a></td></tr><tr><td><a href=\"/url?q=https://www.sagarhospitals.in/brochure/blog/cricket/background-of-ms-dhoni/&amp;sa=U&amp;ved=2ahUKEwjQ1LTjvYeDAxUWXWwGHadNBocQr4kDegQIDhAC&amp;usg=AOvVaw3amVzDFJ9tfX3Pz6ZltwK0\"><div class=\"AlD19d\"> <span class=\"qXLe6d x3G5ab\"> <span class=\"fYyStc\">Background Of Ms Dhoni -...</span> </span> <span class=\"qXLe6d F9iS2e\"> <span class=\"fYyStc\">www.sagarhospitals.in</span> </span> </div></a></td></tr></table></div></div> </div> </div></td><td align=\"center\" class=\"e3goi\"><div class=\"jjVJ4e\"> <div> <div class=\"lIMUZd\"><div><table class=\"RntSmf\"><tr><td><a href=\"/url?q=https://www.zeebiz.com/hindi/web-stories/trending/sports/top-10-achievements-of-indian-cricketer-mahendra-singh-dhoni-in-test-and-oneday-cricket-match-1688705846261&amp;sa=U&amp;ved=2ahUKEwjQ1LTjvYeDAxUWXWwGHadNBocQqoUBegQICxAB&amp;usg=AOvVaw0hbBvMwbVekhpZPIroo8FQ\"><div class=\"kCmkOe\"><img alt=\"\" class=\"DS1iW\" src=\"https://encrypted-tbn0.gstatic.com/images?q=tbn:ANd9GcSNrBzeYOQBU_4KQyIhxc8exdmSwKPTijQWcXaLFiv5i6uSL2XwpLRiX3isouk&amp;s\"/></div></a></td></tr><tr><td><a href=\"/url?q=https://www.zeebiz.com/hindi/web-stories/trending/sports/top-10-achievements-of-indian-cricketer-mahendra-singh-dhoni-in-test-and-oneday-cricket-match-1688705846261&amp;sa=U&amp;ved=2ahUKEwjQ1LTjvYeDAxUWXWwGHadNBocQr4kDegQICxAC&amp;usg=AOvVaw1z8RCFpPfyGCAjfILGFzbC\"><div class=\"AlD19d\"> <span class=\"qXLe6d x3G5ab\"> <span class=\"fYyStc\">Birthday Special: टेस्ट और...</span> </span> <span class=\"qXLe6d F9iS2e\"> <span class=\"fYyStc\">www.zeebiz.com</span> </span> </div></a></td></tr></table></div></div> </div> </div></td><td align=\"center\" class=\"e3goi\"><div class=\"jjVJ4e\"> <div> <div class=\"lIMUZd\"><div><table class=\"RntSmf\"><tr><td><a href=\"/url?q=https://www.peakpx.com/en/hd-wallpaper-desktop-wgxwq&amp;sa=U&amp;ved=2ahUKEwjQ1LTjvYeDAxUWXWwGHadNBocQqoUBegQIChAB&amp;usg=AOvVaw0_is6dzPeYwTAf57CW5gIO\"><div class=\"kCmkOe\"><img alt=\"\" class=\"DS1iW\" src=\"https://encrypted-tbn0.gstatic.com/images?q=tbn:ANd9GcQU6fp4M6GPJPdPu5Yza3xm6u2fzd5DhEqbt8iOb6cQVxK0JL9kPknj0gH-s98&amp;s\"/></div></a></td></tr><tr><td><a href=\"/url?q=https://www.peakpx.com/en/hd-wallpaper-desktop-wgxwq&amp;sa=U&amp;ved=2ahUKEwjQ1LTjvYeDAxUWXWwGHadNBocQr4kDegQIChAC&amp;usg=AOvVaw2beQHgLIIe4PXNGYwBwwMM\"><div class=\"AlD19d\"> <span class=\"qXLe6d x3G5ab\"> <span class=\"fYyStc\">Cricket Match, Ms Dhoni...</span> </span> <span class=\"qXLe6d F9iS2e\"> <span class=\"fYyStc\">www.peakpx.com</span> </span> </div></a></td></tr></table></div></div> </div> </div></td><td align=\"center\" class=\"e3goi\"><div class=\"jjVJ4e\"> <div> <div class=\"lIMUZd\"><div><table class=\"RntSmf\"><tr><td><a href=\"/url?q=https://ghbc.edu.in/college/menu/cricket/at-what-age-ms-dhoni-started-playing-cricket/&amp;sa=U&amp;ved=2ahUKEwjQ1LTjvYeDAxUWXWwGHadNBocQqoUBegQIDBAB&amp;usg=AOvVaw2ygjbMfxlwcNu_E1R0zJRa\"><div class=\"kCmkOe\"><img alt=\"\" class=\"DS1iW\" src=\"https://encrypted-tbn0.gstatic.com/images?q=tbn:ANd9GcSC3bz6JEdrRX0KzfzRHJqH4MsvPRM0X8KTZ6DOiuAgWnh3CiiGESeN8HLT0A&amp;s\"/></div></a></td></tr><tr><td><a href=\"/url?q=https://ghbc.edu.in/college/menu/cricket/at-what-age-ms-dhoni-started-playing-cricket/&amp;sa=U&amp;ved=2ahUKEwjQ1LTjvYeDAxUWXWwGHadNBocQr4kDegQIDBAC&amp;usg=AOvVaw00hM-LYuJS-4BXlrOryjpx\"><div class=\"AlD19d\"> <span class=\"qXLe6d x3G5ab\"> <span class=\"fYyStc\">At What Age Ms Dhoni...</span> </span> <span class=\"qXLe6d F9iS2e\"> <span class=\"fYyStc\">ghbc.edu.in</span> </span> </div></a></td></tr></table></div></div> </div> </div></td></tr><tr><td align=\"center\" class=\"e3goi\"><div class=\"jjVJ4e\"> <div> <div class=\"lIMUZd\"><div><table class=\"RntSmf\"><tr><td><a href=\"/url?q=https://www.wionews.com/web-stories/sports/6-interesting-facts-about-ms-dhoni-1688647060717&amp;sa=U&amp;ved=2ahUKEwjQ1LTjvYeDAxUWXWwGHadNBocQqoUBegQIBxAB&amp;usg=AOvVaw04GeEJE5t7C5NuDjUqtMCo\"><div class=\"kCmkOe\"><img alt=\"\" class=\"DS1iW\" src=\"https://encrypted-tbn0.gstatic.com/images?q=tbn:ANd9GcTAfvEjG8UFReJDjB6LeJmjm4Y56Pnu6L65znPuNck9Bx4-QyilwdA0HRsoGGI&amp;s\"/></div></a></td></tr><tr><td><a href=\"/url?q=https://www.wionews.com/web-stories/sports/6-interesting-facts-about-ms-dhoni-1688647060717&amp;sa=U&amp;ved=2ahUKEwjQ1LTjvYeDAxUWXWwGHadNBocQr4kDegQIBxAC&amp;usg=AOvVaw3Lp6aM9OlJunr0YAAgLVkx\"><div class=\"AlD19d\"> <span class=\"qXLe6d x3G5ab\"> <span class=\"fYyStc\">6 Interesting Facts about...</span> </span> <span class=\"qXLe6d F9iS2e\"> <span class=\"fYyStc\">www.wionews.com</span> </span> </div></a></td></tr></table></div></div> </div> </div></td><td align=\"center\" class=\"e3goi\"><div class=\"jjVJ4e\"> <div> <div class=\"lIMUZd\"><div><table class=\"RntSmf\"><tr><td><a href=\"/url?q=https://gim.ac.in/modules/custom/custom_faculty/images/cricket/ms-dhoni-total-matches-2/&amp;sa=U&amp;ved=2ahUKEwjQ1LTjvYeDAxUWXWwGHadNBocQqoUBegQIAxAB&amp;usg=AOvVaw2sqGmj8_V_LjUuFUFUm_5Q\"><div class=\"kCmkOe\"><img alt=\"\" class=\"DS1iW\" src=\"https://encrypted-tbn0.gstatic.com/images?q=tbn:ANd9GcQ7hlpV0eUXNXJptuKJZAUKxwqPuRDBHNIk1PeaLPHU2bK4UJ0_FCaobe-IdHY&amp;s\"/></div></a></td></tr><tr><td><a href=\"/url?q=https://gim.ac.in/modules/custom/custom_faculty/images/cricket/ms-dhoni-total-matches-2/&amp;sa=U&amp;ved=2ahUKEwjQ1LTjvYeDAxUWXWwGHadNBocQr4kDegQIAxAC&amp;usg=AOvVaw2UhXgMeGUwUYYAQ272K6vE\"><div class=\"AlD19d\"> <span class=\"qXLe6d x3G5ab\"> <span class=\"fYyStc\">Ms Dhoni Total Matches -...</span> </span> <span class=\"qXLe6d F9iS2e\"> <span class=\"fYyStc\">gim.ac.in</span> </span> </div></a></td></tr></table></div></div> </div> </div></td><td align=\"center\" class=\"e3goi\"><div class=\"jjVJ4e\"> <div> <div class=\"lIMUZd\"><div><table class=\"RntSmf\"><tr><td><a href=\"/url?q=https://www.cricbuzz.com/profiles/265/ms-dhoni&amp;sa=U&amp;ved=2ahUKEwjQ1LTjvYeDAxUWXWwGHadNBocQqoUBegQIAhAB&amp;usg=AOvVaw2qs9OhAzbssWn7Z7D8vhRW\"><div class=\"kCmkOe\"><img alt=\"\" class=\"DS1iW\" src=\"https://encrypted-tbn0.gstatic.com/images?q=tbn:ANd9GcRoUZ19Rp-FlEg02UhKOqBUiBRT1J4InZ3_vLWAGHiAYImdt0LDB_SQu6CEjw&amp;s\"/></div></a></td></tr><tr><td><a href=\"/url?q=https://www.cricbuzz.com/profiles/265/ms-dhoni&amp;sa=U&amp;ved=2ahUKEwjQ1LTjvYeDAxUWXWwGHadNBocQr4kDegQIAhAC&amp;usg=AOvVaw0-oKGBtZbuOEm8_QMOx5Vo\"><div class=\"AlD19d\"> <span class=\"qXLe6d x3G5ab\"> <span class=\"fYyStc\">MS Dhoni Profile - ICC...</span> </span> <span class=\"qXLe6d F9iS2e\"> <span class=\"fYyStc\">www.cricbuzz.com</span> </span> </div></a></td></tr></table></div></div> </div> </div></td><td align=\"center\" class=\"e3goi\"><div class=\"jjVJ4e\"> <div> <div class=\"lIMUZd\"><div><table class=\"RntSmf\"><tr><td><a href=\"/url?q=https://www.indiatvnews.com/web-stories/sports/i-d-go-to-war-with-dhoni-by-my-side-best-quotes-about-ms-dhoni-as-captain-cool-celebrates-his-42nd-birthday-2023-07-07-879702&amp;sa=U&amp;ved=2ahUKEwjQ1LTjvYeDAxUWXWwGHadNBocQqoUBegQIBRAB&amp;usg=AOvVaw3eBHUz7zAWcKzuo11bhsuR\"><div class=\"kCmkOe\"><img alt=\"\" class=\"DS1iW\" src=\"https://encrypted-tbn0.gstatic.com/images?q=tbn:ANd9GcThsFNlcNdcuaYzT-Bp7aC8ra604WM6WwSFB6uwSsXCgdp5wQhoe7DwJdHWYg&amp;s\"/></div></a></td></tr><tr><td><a href=\"/url?q=https://www.indiatvnews.com/web-stories/sports/i-d-go-to-war-with-dhoni-by-my-side-best-quotes-about-ms-dhoni-as-captain-cool-celebrates-his-42nd-birthday-2023-07-07-879702&amp;sa=U&amp;ved=2ahUKEwjQ1LTjvYeDAxUWXWwGHadNBocQr4kDegQIBRAC&amp;usg=AOvVaw3JHIXWYpInYVbXoWQLxs21\"><div class=\"AlD19d\"> <span class=\"qXLe6d x3G5ab\"> <span class=\"fYyStc\">I'd go to war with Dhoni by...</span> </span> <span class=\"qXLe6d F9iS2e\"> <span class=\"fYyStc\">www.indiatvnews.com</span> </span> </div></a></td></tr></table></div></div> </div> </div></td></tr><tr><td align=\"center\" class=\"e3goi\"><div class=\"jjVJ4e\"> <div> <div class=\"lIMUZd\"><div><table class=\"RntSmf\"><tr><td><a href=\"/url?q=https://navbharattimes.indiatimes.com/sports/cricket/cricket-news/mahendra-singh-dhoni-should-be-team-india-head-coach-salman-butt-suggested/articleshow/95573073.cms&amp;sa=U&amp;ved=2ahUKEwjQ1LTjvYeDAxUWXWwGHadNBocQqoUBegQICBAB&amp;usg=AOvVaw1Xp9aeJkye9-rjfXwOv32F\"><div class=\"kCmkOe\"><img alt=\"\" class=\"DS1iW\" src=\"https://encrypted-tbn0.gstatic.com/images?q=tbn:ANd9GcTdhl46RI5AA1W85eTOM3sUbwhhvWIgVL8PAWhZWt6D26rIjBcs_wBnWJekcg&amp;s\"/></div></a></td></tr><tr><td><a href=\"/url?q=https://navbharattimes.indiatimes.com/sports/cricket/cricket-news/mahendra-singh-dhoni-should-be-team-india-head-coach-salman-butt-suggested/articleshow/95573073.cms&amp;sa=U&amp;ved=2ahUKEwjQ1LTjvYeDAxUWXWwGHadNBocQr4kDegQICBAC&amp;usg=AOvVaw3uXbyDqING8hMa6nXhVFoK\"><div class=\"AlD19d\"> <span class=\"qXLe6d x3G5ab\"> <span class=\"fYyStc\">Mahendra Singh Dhoni should...</span> </span> <span class=\"qXLe6d F9iS2e\"> <span class=\"fYyStc\">navbharattimes.indiatimes.c...</span> </span> </div></a></td></tr></table></div></div> </div> </div></td><td align=\"center\" class=\"e3goi\"><div class=\"jjVJ4e\"> <div> <div class=\"lIMUZd\"><div><table class=\"RntSmf\"><tr><td><a href=\"/url?q=https://news24online.com/sports/ipl-2023-historic-ms-dhoni-just-one-step-away-to-achieve-this-mega-milestone-for-chennai-super-kings/122285/&amp;sa=U&amp;ved=2ahUKEwjQ1LTjvYeDAxUWXWwGHadNBocQqoUBegQIABAB&amp;usg=AOvVaw1Hx871TBYNGjPxMXgT_cDS\"><div class=\"kCmkOe\"><img alt=\"\" class=\"DS1iW\" src=\"https://encrypted-tbn0.gstatic.com/images?q=tbn:ANd9GcSvbd4Ii4tFVCUESgNQ7TO_JFqu2wch7KyocoTyl868cupkvp75V9rXBdzbJg&amp;s\"/></div></a></td></tr><tr><td><a href=\"/url?q=https://news24online.com/sports/ipl-2023-historic-ms-dhoni-just-one-step-away-to-achieve-this-mega-milestone-for-chennai-super-kings/122285/&amp;sa=U&amp;ved=2ahUKEwjQ1LTjvYeDAxUWXWwGHadNBocQr4kDegQIABAC&amp;usg=AOvVaw3B_ePBmHFpYF4ozhgKgyVd\"><div class=\"AlD19d\"> <span class=\"qXLe6d x3G5ab\"> <span class=\"fYyStc\">IPL 2023: Historic! MS...</span> </span> <span class=\"qXLe6d F9iS2e\"> <span class=\"fYyStc\">news24online.com</span> </span> </div></a></td></tr></table></div></div> </div> </div></td><td align=\"center\" class=\"e3goi\"><div class=\"jjVJ4e\"> <div> <div class=\"lIMUZd\"><div><table class=\"RntSmf\"><tr><td><a href=\"/url?q=https://rapidkings.com/mahendra-singh-dhoni-whatsapp-number-mobile-number-phone-number-email-id-and-more/&amp;sa=U&amp;ved=2ahUKEwjQ1LTjvYeDAxUWXWwGHadNBocQqoUBegQIARAB&amp;usg=AOvVaw3SK96TGhPMRNxhgYl_cpcl\"><div class=\"kCmkOe\"><img alt=\"\" class=\"DS1iW\" src=\"https://encrypted-tbn0.gstatic.com/images?q=tbn:ANd9GcQZ4M-jHf-tPCBq4jmD9tVkp6hPnlvr8mky48gEtYxVNxfOZGVY05FEKdzNeQ&amp;s\"/></div></a></td></tr><tr><td><a href=\"/url?q=https://rapidkings.com/mahendra-singh-dhoni-whatsapp-number-mobile-number-phone-number-email-id-and-more/&amp;sa=U&amp;ved=2ahUKEwjQ1LTjvYeDAxUWXWwGHadNBocQr4kDegQIARAC&amp;usg=AOvVaw1sIihC4LgnvFsEguJB2njz\"><div class=\"AlD19d\"> <span class=\"qXLe6d x3G5ab\"> <span class=\"fYyStc\">OFFICIAL CONTACT- MS Dhoni...</span> </span> <span class=\"qXLe6d F9iS2e\"> <span class=\"fYyStc\">rapidkings.com</span> </span> </div></a></td></tr></table></div></div> </div> </div></td><td align=\"center\" class=\"e3goi\"><div class=\"jjVJ4e\"> <div> <div class=\"lIMUZd\"><div><table class=\"RntSmf\"><tr><td><a href=\"/url?q=https://in.mashable.com/culture/50676/ms-dhoni-to-become-the-first-player-in-ipl-to-achieve-this-massive-milestone-during-csk-vs-dc-clash&amp;sa=U&amp;ved=2ahUKEwjQ1LTjvYeDAxUWXWwGHadNBocQqoUBegQIBhAB&amp;usg=AOvVaw3hAb80iWIiI2eEn1y85hNd\"><div class=\"kCmkOe\"><img alt=\"\" class=\"DS1iW\" src=\"https://encrypted-tbn0.gstatic.com/images?q=tbn:ANd9GcQA_oOLsx-UOGwPbsRxqfQvKwzlrGm6s18RXqTjEM5vGrEftZZtexOYFHpE_mI&amp;s\"/></div></a></td></tr><tr><td><a href=\"/url?q=https://in.mashable.com/culture/50676/ms-dhoni-to-become-the-first-player-in-ipl-to-achieve-this-massive-milestone-during-csk-vs-dc-clash&amp;sa=U&amp;ved=2ahUKEwjQ1LTjvYeDAxUWXWwGHadNBocQr4kDegQIBhAC&amp;usg=AOvVaw09QMge8HkU4J0rlAYYcD4n\"><div class=\"AlD19d\"> <span class=\"qXLe6d x3G5ab\"> <span class=\"fYyStc\">MS Dhoni To Become The...</span> </span> <span class=\"qXLe6d F9iS2e\"> <span class=\"fYyStc\">in.mashable.com</span> </span> </div></a></td></tr></table></div></div> </div> </div></td></tr></table></div><table class=\"uZgmoc\"><tbody><td><a class=\"frGj1b\" href=\"/search?q=ms+dhoni&amp;sca_esv=589698990&amp;rlz=1C1VDKB_enIN1080IN1080&amp;biw=1280&amp;bih=595&amp;ie=UTF-8&amp;tbm=isch&amp;ei=rQ13ZZBKlrqx4w-nm5m4CA&amp;start=20&amp;sa=N\">Next &gt;</a></td></tbody></table><br/><div class=\"TuS8Ad\" data-ved=\"0ahUKEwjQ1LTjvYeDAxUWXWwGHadNBocQpyoIUg\"><style>.VYM29{font-weight:bold}</style><div align=\"center\" class=\"HddGcc\"><span class=\"VYM29\">Patna, Bihar</span><span> - </span><span>From your IP address</span><span> - </span><a href=\"/url?q=https://support.google.com/websearch%3Fp%3Dws_settings_location%26hl%3Den-IN&amp;opi=89978449&amp;sa=U&amp;ved=0ahUKEwjQ1LTjvYeDAxUWXWwGHadNBocQty4IUw&amp;usg=AOvVaw1U4wh5kVIW9IGCV9wi49n3\">Learn more</a></div><div align=\"center\"><a class=\"rEM8G\" href=\"/url?q=https://accounts.google.com/ServiceLogin%3Fcontinue%3Dhttps://www.google.com/search%253Fq%253Dms%252Bdhoni%2526sca_esv%253D589698990%2526rlz%253D1C1VDKB_enIN1080IN1080%2526tbm%253Disch%2526sxsrf%253DAM9HkKnOi3IyX1wSZQfED44OKlb7ubtwCA:1702274388248%2526source%253Dlnms%2526sa%253DX%2526sqi%253D2%2526ved%253D2ahUKEwjf3uKh2oaDAxXC-DgGHRtaD50Q_AUoAXoECAIQAw%2526biw%253D1280%2526bih%253D595%2526dpr%253D1.5%26hl%3Den&amp;opi=89978449&amp;sa=U&amp;ved=0ahUKEwjQ1LTjvYeDAxUWXWwGHadNBocQxs8CCFQ&amp;usg=AOvVaw3CZnjptUkSlBKVEOhWT8Jt\">Sign in</a></div><div><table class=\"bookcf\"><tbody class=\"InWNIe\"><tr><td><a class=\"rEM8G\" href=\"https://www.google.com/preferences?hl=en&amp;sa=X&amp;ved=0ahUKEwjQ1LTjvYeDAxUWXWwGHadNBocQv5YECFU\">Settings</a></td><td><a class=\"rEM8G\" href=\"https://www.google.com/intl/en_in/policies/privacy/\">Privacy</a></td><td><a class=\"rEM8G\" href=\"https://www.google.com/intl/en_in/policies/terms/\">Terms</a></td></tr></tbody></table></div></div><div> </div></body></html>"
      ]
     },
     "execution_count": 24,
     "metadata": {},
     "output_type": "execute_result"
    }
   ],
   "source": [
    "Soup"
   ]
  },
  {
   "cell_type": "code",
   "execution_count": 6,
   "id": "ef236d50",
   "metadata": {},
   "outputs": [],
   "source": [
    "Soup = BeautifulSoup(response.content, 'html.parser')"
   ]
  },
  {
   "cell_type": "code",
   "execution_count": 7,
   "id": "168cba56",
   "metadata": {},
   "outputs": [],
   "source": [
    "images_tags = Soup.find_all(\"img\")"
   ]
  },
  {
   "cell_type": "code",
   "execution_count": 25,
   "id": "910b852e",
   "metadata": {},
   "outputs": [
    {
     "data": {
      "text/plain": [
       "[<img alt=\"\" class=\"DS1iW\" src=\"https://encrypted-tbn0.gstatic.com/images?q=tbn:ANd9GcSCmVy4xjkSoSIq5YDE0NmPx_nks-2wYIuWiNdhnamRLeBM4m_ONTVS2ltEIw&amp;s\"/>,\n",
       " <img alt=\"\" class=\"DS1iW\" src=\"https://encrypted-tbn0.gstatic.com/images?q=tbn:ANd9GcQnOH_j4Mjhz63lTh13QVUv7MQLo938RXlgdB0p1UZp4jR90gMLyPLGxFwWYQ&amp;s\"/>,\n",
       " <img alt=\"\" class=\"DS1iW\" src=\"https://encrypted-tbn0.gstatic.com/images?q=tbn:ANd9GcQG5D1SKu8A6BiiQHG8GsFS2FG0mXcusMpXr7RgQYiFRDtCmogZgFWbpCUWz_Q&amp;s\"/>,\n",
       " <img alt=\"\" class=\"DS1iW\" src=\"https://encrypted-tbn0.gstatic.com/images?q=tbn:ANd9GcQlrr2wBBQaDGnHtMHuIJZw6Fil5boteA7K0a6kyn9_0avHrEUpAW859BLgVg&amp;s\"/>,\n",
       " <img alt=\"\" class=\"DS1iW\" src=\"https://encrypted-tbn0.gstatic.com/images?q=tbn:ANd9GcROxkoDl9Ys_esDbACrX0fA2Mnbkqohhd6sYHp7L-qTmItM-QFEmJ61DAuEgA&amp;s\"/>,\n",
       " <img alt=\"\" class=\"DS1iW\" src=\"https://encrypted-tbn0.gstatic.com/images?q=tbn:ANd9GcTYCmQaQDBHif6G_raTPWZxfNlK_Zjj0ly-FpYGXmtpJZISGw_BN9aLnShNMow&amp;s\"/>,\n",
       " <img alt=\"\" class=\"DS1iW\" src=\"https://encrypted-tbn0.gstatic.com/images?q=tbn:ANd9GcShCR4qMx76Wz81VuWJUUbQlmaE-M1zwfGqCWxX5zC8AynHf19I8L2I7CyALAo&amp;s\"/>,\n",
       " <img alt=\"\" class=\"DS1iW\" src=\"https://encrypted-tbn0.gstatic.com/images?q=tbn:ANd9GcSK5RZRRpWxoesBB27ShVjWYjQg7989b0BIEWFIeKa608Pt7CcP_3L9N0L5_g&amp;s\"/>,\n",
       " <img alt=\"\" class=\"DS1iW\" src=\"https://encrypted-tbn0.gstatic.com/images?q=tbn:ANd9GcRz79x97nWrkr-6uVfGxIid3ZW_cHK4fzfLk0118s8I0KYqIl8ikb5u8M-kYt4&amp;s\"/>,\n",
       " <img alt=\"\" class=\"DS1iW\" src=\"https://encrypted-tbn0.gstatic.com/images?q=tbn:ANd9GcSNrBzeYOQBU_4KQyIhxc8exdmSwKPTijQWcXaLFiv5i6uSL2XwpLRiX3isouk&amp;s\"/>,\n",
       " <img alt=\"\" class=\"DS1iW\" src=\"https://encrypted-tbn0.gstatic.com/images?q=tbn:ANd9GcQU6fp4M6GPJPdPu5Yza3xm6u2fzd5DhEqbt8iOb6cQVxK0JL9kPknj0gH-s98&amp;s\"/>,\n",
       " <img alt=\"\" class=\"DS1iW\" src=\"https://encrypted-tbn0.gstatic.com/images?q=tbn:ANd9GcSC3bz6JEdrRX0KzfzRHJqH4MsvPRM0X8KTZ6DOiuAgWnh3CiiGESeN8HLT0A&amp;s\"/>,\n",
       " <img alt=\"\" class=\"DS1iW\" src=\"https://encrypted-tbn0.gstatic.com/images?q=tbn:ANd9GcTAfvEjG8UFReJDjB6LeJmjm4Y56Pnu6L65znPuNck9Bx4-QyilwdA0HRsoGGI&amp;s\"/>,\n",
       " <img alt=\"\" class=\"DS1iW\" src=\"https://encrypted-tbn0.gstatic.com/images?q=tbn:ANd9GcQ7hlpV0eUXNXJptuKJZAUKxwqPuRDBHNIk1PeaLPHU2bK4UJ0_FCaobe-IdHY&amp;s\"/>,\n",
       " <img alt=\"\" class=\"DS1iW\" src=\"https://encrypted-tbn0.gstatic.com/images?q=tbn:ANd9GcRoUZ19Rp-FlEg02UhKOqBUiBRT1J4InZ3_vLWAGHiAYImdt0LDB_SQu6CEjw&amp;s\"/>,\n",
       " <img alt=\"\" class=\"DS1iW\" src=\"https://encrypted-tbn0.gstatic.com/images?q=tbn:ANd9GcThsFNlcNdcuaYzT-Bp7aC8ra604WM6WwSFB6uwSsXCgdp5wQhoe7DwJdHWYg&amp;s\"/>,\n",
       " <img alt=\"\" class=\"DS1iW\" src=\"https://encrypted-tbn0.gstatic.com/images?q=tbn:ANd9GcTdhl46RI5AA1W85eTOM3sUbwhhvWIgVL8PAWhZWt6D26rIjBcs_wBnWJekcg&amp;s\"/>,\n",
       " <img alt=\"\" class=\"DS1iW\" src=\"https://encrypted-tbn0.gstatic.com/images?q=tbn:ANd9GcSvbd4Ii4tFVCUESgNQ7TO_JFqu2wch7KyocoTyl868cupkvp75V9rXBdzbJg&amp;s\"/>,\n",
       " <img alt=\"\" class=\"DS1iW\" src=\"https://encrypted-tbn0.gstatic.com/images?q=tbn:ANd9GcQZ4M-jHf-tPCBq4jmD9tVkp6hPnlvr8mky48gEtYxVNxfOZGVY05FEKdzNeQ&amp;s\"/>,\n",
       " <img alt=\"\" class=\"DS1iW\" src=\"https://encrypted-tbn0.gstatic.com/images?q=tbn:ANd9GcQA_oOLsx-UOGwPbsRxqfQvKwzlrGm6s18RXqTjEM5vGrEftZZtexOYFHpE_mI&amp;s\"/>]"
      ]
     },
     "execution_count": 25,
     "metadata": {},
     "output_type": "execute_result"
    }
   ],
   "source": [
    "images_tags"
   ]
  },
  {
   "cell_type": "code",
   "execution_count": 8,
   "id": "8a81fcf5",
   "metadata": {},
   "outputs": [
    {
     "data": {
      "text/plain": [
       "21"
      ]
     },
     "execution_count": 8,
     "metadata": {},
     "output_type": "execute_result"
    }
   ],
   "source": [
    "len(images_tags)"
   ]
  },
  {
   "cell_type": "code",
   "execution_count": 9,
   "id": "029f0832",
   "metadata": {},
   "outputs": [],
   "source": [
    "del images_tags[0]"
   ]
  },
  {
   "cell_type": "code",
   "execution_count": 12,
   "id": "a308d1b1",
   "metadata": {},
   "outputs": [],
   "source": [
    "img_data_mongo = []\n",
    "\n",
    "for i in images_tags:\n",
    "    image_url = i['src']\n",
    "    image_data = requests.get(image_url).content\n",
    "    mydict = {\"index\":image_url , \"image\":image_data}\n",
    "    img_data_mongo.append(mydict)\n",
    "    \n",
    "    \n",
    "    with open(os.path.join(save_dir, f\"{query}_{images_tags.index(i)}.jpg\"),\"wb\") as f:\n",
    "        f.write(image_data)"
   ]
  },
  {
   "cell_type": "code",
   "execution_count": null,
   "id": "15b45744",
   "metadata": {},
   "outputs": [],
   "source": []
  }
 ],
 "metadata": {
  "kernelspec": {
   "display_name": "Python 3 (ipykernel)",
   "language": "python",
   "name": "python3"
  },
  "language_info": {
   "codemirror_mode": {
    "name": "ipython",
    "version": 3
   },
   "file_extension": ".py",
   "mimetype": "text/x-python",
   "name": "python",
   "nbconvert_exporter": "python",
   "pygments_lexer": "ipython3",
   "version": "3.11.5"
  }
 },
 "nbformat": 4,
 "nbformat_minor": 5
}
